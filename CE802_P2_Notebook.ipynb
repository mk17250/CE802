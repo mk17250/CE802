{
 "cells": [
  {
   "cell_type": "markdown",
   "metadata": {},
   "source": [
    "# CE802 Machine Learning and Data Mining Coursework "
   ]
  },
  {
   "cell_type": "markdown",
   "metadata": {},
   "source": [
    "## Assignment: Design and Application of a Machine\n",
    "## Learning System for a Practical Problem\n"
   ]
  },
  {
   "cell_type": "markdown",
   "metadata": {},
   "source": [
    "## 2) Comparative Study "
   ]
  },
  {
   "cell_type": "code",
   "execution_count": 50,
   "metadata": {},
   "outputs": [],
   "source": [
    "# Import libraries\n",
    "import matplotlib\n",
    "import numpy as np\n",
    "import matplotlib.pyplot as plt\n",
    "import pandas as pd\n",
    "import seaborn as sns\n",
    "import itertools\n",
    "\n",
    "from sklearn.linear_model import LogisticRegression\n",
    "from sklearn.neighbors import KNeighborsClassifier\n",
    "from sklearn import svm\n",
    "from sklearn.tree import DecisionTreeClassifier\n",
    "from sklearn.ensemble import RandomForestClassifier\n",
    "from sklearn import metrics\n",
    "from sklearn.pipeline import Pipeline, make_pipeline\n",
    "from sklearn.preprocessing import StandardScaler, MinMaxScaler\n",
    "from sklearn.decomposition import PCA\n",
    "from sklearn.model_selection import GridSearchCV\n",
    "from sklearn.model_selection import cross_val_score\n",
    "from sklearn.metrics import mean_squared_error as mse\n",
    "from sklearn.metrics import mean_absolute_error as mae\n",
    "from sklearn.metrics import accuracy_score as acc\n",
    "from sklearn.metrics import make_scorer, confusion_matrix\n",
    "from sklearn.dummy import DummyRegressor, DummyClassifier\n",
    "from sklearn.preprocessing import LabelEncoder\n",
    "from sklearn.impute import SimpleImputer "
   ]
  },
  {
   "cell_type": "code",
   "execution_count": 218,
   "metadata": {},
   "outputs": [],
   "source": [
    "## Load data \n",
    "import pandas as pd\n",
    "\n",
    "data = pd.read_csv(r'C:\\Users\\Home\\OneDrive\\CE802\\CE802_P2_Data (1)\\CE802_P2_Data.csv.')\n",
    "data1 = pd.read_csv(r'C:\\Users\\Home\\OneDrive\\CE802\\CE802_P2_Data (1)\\CE802_P2_Data.csv.')"
   ]
  },
  {
   "cell_type": "code",
   "execution_count": 219,
   "metadata": {
    "scrolled": true
   },
   "outputs": [
    {
     "data": {
      "text/html": [
       "<div>\n",
       "<style scoped>\n",
       "    .dataframe tbody tr th:only-of-type {\n",
       "        vertical-align: middle;\n",
       "    }\n",
       "\n",
       "    .dataframe tbody tr th {\n",
       "        vertical-align: top;\n",
       "    }\n",
       "\n",
       "    .dataframe thead th {\n",
       "        text-align: right;\n",
       "    }\n",
       "</style>\n",
       "<table border=\"1\" class=\"dataframe\">\n",
       "  <thead>\n",
       "    <tr style=\"text-align: right;\">\n",
       "      <th></th>\n",
       "      <th>F1</th>\n",
       "      <th>F2</th>\n",
       "      <th>F3</th>\n",
       "      <th>F4</th>\n",
       "      <th>F5</th>\n",
       "      <th>F6</th>\n",
       "      <th>F7</th>\n",
       "      <th>F8</th>\n",
       "      <th>F9</th>\n",
       "      <th>F10</th>\n",
       "      <th>F11</th>\n",
       "      <th>F12</th>\n",
       "      <th>F13</th>\n",
       "      <th>F14</th>\n",
       "      <th>F15</th>\n",
       "      <th>Class</th>\n",
       "    </tr>\n",
       "  </thead>\n",
       "  <tbody>\n",
       "    <tr>\n",
       "      <th>0</th>\n",
       "      <td>3.20</td>\n",
       "      <td>-4.91</td>\n",
       "      <td>-41.64</td>\n",
       "      <td>-21.63</td>\n",
       "      <td>8.41</td>\n",
       "      <td>2</td>\n",
       "      <td>5.42</td>\n",
       "      <td>-84.01</td>\n",
       "      <td>-9.40</td>\n",
       "      <td>76.72</td>\n",
       "      <td>-0.42</td>\n",
       "      <td>36</td>\n",
       "      <td>0.33</td>\n",
       "      <td>30.60</td>\n",
       "      <td>NaN</td>\n",
       "      <td>False</td>\n",
       "    </tr>\n",
       "    <tr>\n",
       "      <th>1</th>\n",
       "      <td>3.98</td>\n",
       "      <td>-5.25</td>\n",
       "      <td>-47.64</td>\n",
       "      <td>-23.43</td>\n",
       "      <td>8.66</td>\n",
       "      <td>2</td>\n",
       "      <td>4.32</td>\n",
       "      <td>-83.01</td>\n",
       "      <td>-11.16</td>\n",
       "      <td>2.72</td>\n",
       "      <td>0.50</td>\n",
       "      <td>111</td>\n",
       "      <td>0.84</td>\n",
       "      <td>39.42</td>\n",
       "      <td>9.26</td>\n",
       "      <td>True</td>\n",
       "    </tr>\n",
       "    <tr>\n",
       "      <th>2</th>\n",
       "      <td>12.60</td>\n",
       "      <td>0.41</td>\n",
       "      <td>-50.64</td>\n",
       "      <td>-15.51</td>\n",
       "      <td>16.34</td>\n",
       "      <td>20</td>\n",
       "      <td>-4.00</td>\n",
       "      <td>25.99</td>\n",
       "      <td>-15.08</td>\n",
       "      <td>450.72</td>\n",
       "      <td>-3.60</td>\n",
       "      <td>525</td>\n",
       "      <td>5.10</td>\n",
       "      <td>21.78</td>\n",
       "      <td>NaN</td>\n",
       "      <td>False</td>\n",
       "    </tr>\n",
       "    <tr>\n",
       "      <th>3</th>\n",
       "      <td>14.70</td>\n",
       "      <td>1.09</td>\n",
       "      <td>-50.64</td>\n",
       "      <td>-4.74</td>\n",
       "      <td>15.09</td>\n",
       "      <td>20</td>\n",
       "      <td>-8.16</td>\n",
       "      <td>10.99</td>\n",
       "      <td>-13.12</td>\n",
       "      <td>190.72</td>\n",
       "      <td>-5.71</td>\n",
       "      <td>660</td>\n",
       "      <td>7.25</td>\n",
       "      <td>15.78</td>\n",
       "      <td>6.57</td>\n",
       "      <td>False</td>\n",
       "    </tr>\n",
       "    <tr>\n",
       "      <th>4</th>\n",
       "      <td>2.74</td>\n",
       "      <td>-3.86</td>\n",
       "      <td>-35.64</td>\n",
       "      <td>-23.91</td>\n",
       "      <td>8.67</td>\n",
       "      <td>2</td>\n",
       "      <td>2.80</td>\n",
       "      <td>-53.01</td>\n",
       "      <td>-19.22</td>\n",
       "      <td>24.72</td>\n",
       "      <td>0.59</td>\n",
       "      <td>33</td>\n",
       "      <td>0.85</td>\n",
       "      <td>25.08</td>\n",
       "      <td>NaN</td>\n",
       "      <td>True</td>\n",
       "    </tr>\n",
       "    <tr>\n",
       "      <th>...</th>\n",
       "      <td>...</td>\n",
       "      <td>...</td>\n",
       "      <td>...</td>\n",
       "      <td>...</td>\n",
       "      <td>...</td>\n",
       "      <td>...</td>\n",
       "      <td>...</td>\n",
       "      <td>...</td>\n",
       "      <td>...</td>\n",
       "      <td>...</td>\n",
       "      <td>...</td>\n",
       "      <td>...</td>\n",
       "      <td>...</td>\n",
       "      <td>...</td>\n",
       "      <td>...</td>\n",
       "      <td>...</td>\n",
       "    </tr>\n",
       "    <tr>\n",
       "      <th>1495</th>\n",
       "      <td>15.60</td>\n",
       "      <td>-2.92</td>\n",
       "      <td>-110.64</td>\n",
       "      <td>-5.94</td>\n",
       "      <td>15.84</td>\n",
       "      <td>20</td>\n",
       "      <td>-4.20</td>\n",
       "      <td>-104.01</td>\n",
       "      <td>-7.90</td>\n",
       "      <td>90.72</td>\n",
       "      <td>-4.99</td>\n",
       "      <td>720</td>\n",
       "      <td>6.10</td>\n",
       "      <td>12.87</td>\n",
       "      <td>NaN</td>\n",
       "      <td>True</td>\n",
       "    </tr>\n",
       "    <tr>\n",
       "      <th>1496</th>\n",
       "      <td>0.64</td>\n",
       "      <td>-6.48</td>\n",
       "      <td>-41.64</td>\n",
       "      <td>-21.69</td>\n",
       "      <td>8.74</td>\n",
       "      <td>2</td>\n",
       "      <td>2.74</td>\n",
       "      <td>-65.01</td>\n",
       "      <td>-10.58</td>\n",
       "      <td>70.72</td>\n",
       "      <td>-0.58</td>\n",
       "      <td>18</td>\n",
       "      <td>0.57</td>\n",
       "      <td>33.00</td>\n",
       "      <td>7.70</td>\n",
       "      <td>False</td>\n",
       "    </tr>\n",
       "    <tr>\n",
       "      <th>1497</th>\n",
       "      <td>12.00</td>\n",
       "      <td>-1.38</td>\n",
       "      <td>-80.64</td>\n",
       "      <td>-13.14</td>\n",
       "      <td>13.49</td>\n",
       "      <td>20</td>\n",
       "      <td>-1.48</td>\n",
       "      <td>-54.01</td>\n",
       "      <td>-9.00</td>\n",
       "      <td>240.72</td>\n",
       "      <td>-3.53</td>\n",
       "      <td>270</td>\n",
       "      <td>6.50</td>\n",
       "      <td>15.69</td>\n",
       "      <td>NaN</td>\n",
       "      <td>False</td>\n",
       "    </tr>\n",
       "    <tr>\n",
       "      <th>1498</th>\n",
       "      <td>18.20</td>\n",
       "      <td>-2.87</td>\n",
       "      <td>-50.64</td>\n",
       "      <td>-5.31</td>\n",
       "      <td>13.34</td>\n",
       "      <td>20</td>\n",
       "      <td>-4.18</td>\n",
       "      <td>-19.01</td>\n",
       "      <td>-8.30</td>\n",
       "      <td>380.72</td>\n",
       "      <td>-4.64</td>\n",
       "      <td>150</td>\n",
       "      <td>10.15</td>\n",
       "      <td>16.17</td>\n",
       "      <td>6.45</td>\n",
       "      <td>False</td>\n",
       "    </tr>\n",
       "    <tr>\n",
       "      <th>1499</th>\n",
       "      <td>15.90</td>\n",
       "      <td>-0.03</td>\n",
       "      <td>-50.64</td>\n",
       "      <td>-8.40</td>\n",
       "      <td>13.49</td>\n",
       "      <td>20</td>\n",
       "      <td>-7.34</td>\n",
       "      <td>-14.01</td>\n",
       "      <td>-10.62</td>\n",
       "      <td>230.72</td>\n",
       "      <td>-4.03</td>\n",
       "      <td>360</td>\n",
       "      <td>7.90</td>\n",
       "      <td>13.41</td>\n",
       "      <td>NaN</td>\n",
       "      <td>False</td>\n",
       "    </tr>\n",
       "  </tbody>\n",
       "</table>\n",
       "<p>1500 rows × 16 columns</p>\n",
       "</div>"
      ],
      "text/plain": [
       "         F1    F2      F3     F4     F5  F6    F7      F8     F9     F10  \\\n",
       "0      3.20 -4.91  -41.64 -21.63   8.41   2  5.42  -84.01  -9.40   76.72   \n",
       "1      3.98 -5.25  -47.64 -23.43   8.66   2  4.32  -83.01 -11.16    2.72   \n",
       "2     12.60  0.41  -50.64 -15.51  16.34  20 -4.00   25.99 -15.08  450.72   \n",
       "3     14.70  1.09  -50.64  -4.74  15.09  20 -8.16   10.99 -13.12  190.72   \n",
       "4      2.74 -3.86  -35.64 -23.91   8.67   2  2.80  -53.01 -19.22   24.72   \n",
       "...     ...   ...     ...    ...    ...  ..   ...     ...    ...     ...   \n",
       "1495  15.60 -2.92 -110.64  -5.94  15.84  20 -4.20 -104.01  -7.90   90.72   \n",
       "1496   0.64 -6.48  -41.64 -21.69   8.74   2  2.74  -65.01 -10.58   70.72   \n",
       "1497  12.00 -1.38  -80.64 -13.14  13.49  20 -1.48  -54.01  -9.00  240.72   \n",
       "1498  18.20 -2.87  -50.64  -5.31  13.34  20 -4.18  -19.01  -8.30  380.72   \n",
       "1499  15.90 -0.03  -50.64  -8.40  13.49  20 -7.34  -14.01 -10.62  230.72   \n",
       "\n",
       "       F11  F12    F13    F14   F15  Class  \n",
       "0    -0.42   36   0.33  30.60   NaN  False  \n",
       "1     0.50  111   0.84  39.42  9.26   True  \n",
       "2    -3.60  525   5.10  21.78   NaN  False  \n",
       "3    -5.71  660   7.25  15.78  6.57  False  \n",
       "4     0.59   33   0.85  25.08   NaN   True  \n",
       "...    ...  ...    ...    ...   ...    ...  \n",
       "1495 -4.99  720   6.10  12.87   NaN   True  \n",
       "1496 -0.58   18   0.57  33.00  7.70  False  \n",
       "1497 -3.53  270   6.50  15.69   NaN  False  \n",
       "1498 -4.64  150  10.15  16.17  6.45  False  \n",
       "1499 -4.03  360   7.90  13.41   NaN  False  \n",
       "\n",
       "[1500 rows x 16 columns]"
      ]
     },
     "execution_count": 219,
     "metadata": {},
     "output_type": "execute_result"
    }
   ],
   "source": [
    "# View df \n",
    "data"
   ]
  },
  {
   "cell_type": "code",
   "execution_count": 220,
   "metadata": {
    "scrolled": true
   },
   "outputs": [
    {
     "data": {
      "text/plain": [
       "F1       float64\n",
       "F2       float64\n",
       "F3       float64\n",
       "F4       float64\n",
       "F5       float64\n",
       "F6         int64\n",
       "F7       float64\n",
       "F8       float64\n",
       "F9       float64\n",
       "F10      float64\n",
       "F11      float64\n",
       "F12        int64\n",
       "F13      float64\n",
       "F14      float64\n",
       "F15      float64\n",
       "Class       bool\n",
       "dtype: object"
      ]
     },
     "execution_count": 220,
     "metadata": {},
     "output_type": "execute_result"
    }
   ],
   "source": [
    "# view datatypes \n",
    "data.dtypes"
   ]
  },
  {
   "cell_type": "code",
   "execution_count": 221,
   "metadata": {
    "scrolled": false
   },
   "outputs": [
    {
     "data": {
      "text/html": [
       "<div>\n",
       "<style scoped>\n",
       "    .dataframe tbody tr th:only-of-type {\n",
       "        vertical-align: middle;\n",
       "    }\n",
       "\n",
       "    .dataframe tbody tr th {\n",
       "        vertical-align: top;\n",
       "    }\n",
       "\n",
       "    .dataframe thead th {\n",
       "        text-align: right;\n",
       "    }\n",
       "</style>\n",
       "<table border=\"1\" class=\"dataframe\">\n",
       "  <thead>\n",
       "    <tr style=\"text-align: right;\">\n",
       "      <th></th>\n",
       "      <th>F1</th>\n",
       "      <th>F2</th>\n",
       "      <th>F3</th>\n",
       "      <th>F4</th>\n",
       "      <th>F5</th>\n",
       "      <th>F6</th>\n",
       "      <th>F7</th>\n",
       "      <th>F8</th>\n",
       "      <th>F9</th>\n",
       "      <th>F10</th>\n",
       "      <th>F11</th>\n",
       "      <th>F12</th>\n",
       "      <th>F13</th>\n",
       "      <th>F14</th>\n",
       "      <th>F15</th>\n",
       "      <th>Class</th>\n",
       "    </tr>\n",
       "  </thead>\n",
       "  <tbody>\n",
       "    <tr>\n",
       "      <th>0</th>\n",
       "      <td>3.20</td>\n",
       "      <td>-4.91</td>\n",
       "      <td>-41.64</td>\n",
       "      <td>-21.63</td>\n",
       "      <td>8.41</td>\n",
       "      <td>2</td>\n",
       "      <td>5.42</td>\n",
       "      <td>-84.01</td>\n",
       "      <td>-9.40</td>\n",
       "      <td>76.72</td>\n",
       "      <td>-0.42</td>\n",
       "      <td>36</td>\n",
       "      <td>0.33</td>\n",
       "      <td>30.60</td>\n",
       "      <td>NaN</td>\n",
       "      <td>0</td>\n",
       "    </tr>\n",
       "    <tr>\n",
       "      <th>1</th>\n",
       "      <td>3.98</td>\n",
       "      <td>-5.25</td>\n",
       "      <td>-47.64</td>\n",
       "      <td>-23.43</td>\n",
       "      <td>8.66</td>\n",
       "      <td>2</td>\n",
       "      <td>4.32</td>\n",
       "      <td>-83.01</td>\n",
       "      <td>-11.16</td>\n",
       "      <td>2.72</td>\n",
       "      <td>0.50</td>\n",
       "      <td>111</td>\n",
       "      <td>0.84</td>\n",
       "      <td>39.42</td>\n",
       "      <td>9.26</td>\n",
       "      <td>1</td>\n",
       "    </tr>\n",
       "    <tr>\n",
       "      <th>2</th>\n",
       "      <td>12.60</td>\n",
       "      <td>0.41</td>\n",
       "      <td>-50.64</td>\n",
       "      <td>-15.51</td>\n",
       "      <td>16.34</td>\n",
       "      <td>20</td>\n",
       "      <td>-4.00</td>\n",
       "      <td>25.99</td>\n",
       "      <td>-15.08</td>\n",
       "      <td>450.72</td>\n",
       "      <td>-3.60</td>\n",
       "      <td>525</td>\n",
       "      <td>5.10</td>\n",
       "      <td>21.78</td>\n",
       "      <td>NaN</td>\n",
       "      <td>0</td>\n",
       "    </tr>\n",
       "    <tr>\n",
       "      <th>3</th>\n",
       "      <td>14.70</td>\n",
       "      <td>1.09</td>\n",
       "      <td>-50.64</td>\n",
       "      <td>-4.74</td>\n",
       "      <td>15.09</td>\n",
       "      <td>20</td>\n",
       "      <td>-8.16</td>\n",
       "      <td>10.99</td>\n",
       "      <td>-13.12</td>\n",
       "      <td>190.72</td>\n",
       "      <td>-5.71</td>\n",
       "      <td>660</td>\n",
       "      <td>7.25</td>\n",
       "      <td>15.78</td>\n",
       "      <td>6.57</td>\n",
       "      <td>0</td>\n",
       "    </tr>\n",
       "    <tr>\n",
       "      <th>4</th>\n",
       "      <td>2.74</td>\n",
       "      <td>-3.86</td>\n",
       "      <td>-35.64</td>\n",
       "      <td>-23.91</td>\n",
       "      <td>8.67</td>\n",
       "      <td>2</td>\n",
       "      <td>2.80</td>\n",
       "      <td>-53.01</td>\n",
       "      <td>-19.22</td>\n",
       "      <td>24.72</td>\n",
       "      <td>0.59</td>\n",
       "      <td>33</td>\n",
       "      <td>0.85</td>\n",
       "      <td>25.08</td>\n",
       "      <td>NaN</td>\n",
       "      <td>1</td>\n",
       "    </tr>\n",
       "    <tr>\n",
       "      <th>...</th>\n",
       "      <td>...</td>\n",
       "      <td>...</td>\n",
       "      <td>...</td>\n",
       "      <td>...</td>\n",
       "      <td>...</td>\n",
       "      <td>...</td>\n",
       "      <td>...</td>\n",
       "      <td>...</td>\n",
       "      <td>...</td>\n",
       "      <td>...</td>\n",
       "      <td>...</td>\n",
       "      <td>...</td>\n",
       "      <td>...</td>\n",
       "      <td>...</td>\n",
       "      <td>...</td>\n",
       "      <td>...</td>\n",
       "    </tr>\n",
       "    <tr>\n",
       "      <th>1495</th>\n",
       "      <td>15.60</td>\n",
       "      <td>-2.92</td>\n",
       "      <td>-110.64</td>\n",
       "      <td>-5.94</td>\n",
       "      <td>15.84</td>\n",
       "      <td>20</td>\n",
       "      <td>-4.20</td>\n",
       "      <td>-104.01</td>\n",
       "      <td>-7.90</td>\n",
       "      <td>90.72</td>\n",
       "      <td>-4.99</td>\n",
       "      <td>720</td>\n",
       "      <td>6.10</td>\n",
       "      <td>12.87</td>\n",
       "      <td>NaN</td>\n",
       "      <td>1</td>\n",
       "    </tr>\n",
       "    <tr>\n",
       "      <th>1496</th>\n",
       "      <td>0.64</td>\n",
       "      <td>-6.48</td>\n",
       "      <td>-41.64</td>\n",
       "      <td>-21.69</td>\n",
       "      <td>8.74</td>\n",
       "      <td>2</td>\n",
       "      <td>2.74</td>\n",
       "      <td>-65.01</td>\n",
       "      <td>-10.58</td>\n",
       "      <td>70.72</td>\n",
       "      <td>-0.58</td>\n",
       "      <td>18</td>\n",
       "      <td>0.57</td>\n",
       "      <td>33.00</td>\n",
       "      <td>7.70</td>\n",
       "      <td>0</td>\n",
       "    </tr>\n",
       "    <tr>\n",
       "      <th>1497</th>\n",
       "      <td>12.00</td>\n",
       "      <td>-1.38</td>\n",
       "      <td>-80.64</td>\n",
       "      <td>-13.14</td>\n",
       "      <td>13.49</td>\n",
       "      <td>20</td>\n",
       "      <td>-1.48</td>\n",
       "      <td>-54.01</td>\n",
       "      <td>-9.00</td>\n",
       "      <td>240.72</td>\n",
       "      <td>-3.53</td>\n",
       "      <td>270</td>\n",
       "      <td>6.50</td>\n",
       "      <td>15.69</td>\n",
       "      <td>NaN</td>\n",
       "      <td>0</td>\n",
       "    </tr>\n",
       "    <tr>\n",
       "      <th>1498</th>\n",
       "      <td>18.20</td>\n",
       "      <td>-2.87</td>\n",
       "      <td>-50.64</td>\n",
       "      <td>-5.31</td>\n",
       "      <td>13.34</td>\n",
       "      <td>20</td>\n",
       "      <td>-4.18</td>\n",
       "      <td>-19.01</td>\n",
       "      <td>-8.30</td>\n",
       "      <td>380.72</td>\n",
       "      <td>-4.64</td>\n",
       "      <td>150</td>\n",
       "      <td>10.15</td>\n",
       "      <td>16.17</td>\n",
       "      <td>6.45</td>\n",
       "      <td>0</td>\n",
       "    </tr>\n",
       "    <tr>\n",
       "      <th>1499</th>\n",
       "      <td>15.90</td>\n",
       "      <td>-0.03</td>\n",
       "      <td>-50.64</td>\n",
       "      <td>-8.40</td>\n",
       "      <td>13.49</td>\n",
       "      <td>20</td>\n",
       "      <td>-7.34</td>\n",
       "      <td>-14.01</td>\n",
       "      <td>-10.62</td>\n",
       "      <td>230.72</td>\n",
       "      <td>-4.03</td>\n",
       "      <td>360</td>\n",
       "      <td>7.90</td>\n",
       "      <td>13.41</td>\n",
       "      <td>NaN</td>\n",
       "      <td>0</td>\n",
       "    </tr>\n",
       "  </tbody>\n",
       "</table>\n",
       "<p>1500 rows × 16 columns</p>\n",
       "</div>"
      ],
      "text/plain": [
       "         F1    F2      F3     F4     F5  F6    F7      F8     F9     F10  \\\n",
       "0      3.20 -4.91  -41.64 -21.63   8.41   2  5.42  -84.01  -9.40   76.72   \n",
       "1      3.98 -5.25  -47.64 -23.43   8.66   2  4.32  -83.01 -11.16    2.72   \n",
       "2     12.60  0.41  -50.64 -15.51  16.34  20 -4.00   25.99 -15.08  450.72   \n",
       "3     14.70  1.09  -50.64  -4.74  15.09  20 -8.16   10.99 -13.12  190.72   \n",
       "4      2.74 -3.86  -35.64 -23.91   8.67   2  2.80  -53.01 -19.22   24.72   \n",
       "...     ...   ...     ...    ...    ...  ..   ...     ...    ...     ...   \n",
       "1495  15.60 -2.92 -110.64  -5.94  15.84  20 -4.20 -104.01  -7.90   90.72   \n",
       "1496   0.64 -6.48  -41.64 -21.69   8.74   2  2.74  -65.01 -10.58   70.72   \n",
       "1497  12.00 -1.38  -80.64 -13.14  13.49  20 -1.48  -54.01  -9.00  240.72   \n",
       "1498  18.20 -2.87  -50.64  -5.31  13.34  20 -4.18  -19.01  -8.30  380.72   \n",
       "1499  15.90 -0.03  -50.64  -8.40  13.49  20 -7.34  -14.01 -10.62  230.72   \n",
       "\n",
       "       F11  F12    F13    F14   F15  Class  \n",
       "0    -0.42   36   0.33  30.60   NaN      0  \n",
       "1     0.50  111   0.84  39.42  9.26      1  \n",
       "2    -3.60  525   5.10  21.78   NaN      0  \n",
       "3    -5.71  660   7.25  15.78  6.57      0  \n",
       "4     0.59   33   0.85  25.08   NaN      1  \n",
       "...    ...  ...    ...    ...   ...    ...  \n",
       "1495 -4.99  720   6.10  12.87   NaN      1  \n",
       "1496 -0.58   18   0.57  33.00  7.70      0  \n",
       "1497 -3.53  270   6.50  15.69   NaN      0  \n",
       "1498 -4.64  150  10.15  16.17  6.45      0  \n",
       "1499 -4.03  360   7.90  13.41   NaN      0  \n",
       "\n",
       "[1500 rows x 16 columns]"
      ]
     },
     "execution_count": 221,
     "metadata": {},
     "output_type": "execute_result"
    }
   ],
   "source": [
    "# Convert boolean label to numeric classes \n",
    "data['Class'] = data['Class'].astype(int)\n",
    "data"
   ]
  },
  {
   "cell_type": "code",
   "execution_count": 222,
   "metadata": {
    "scrolled": true
   },
   "outputs": [
    {
     "data": {
      "text/plain": [
       "F1         0\n",
       "F2         0\n",
       "F3         0\n",
       "F4         0\n",
       "F5         0\n",
       "F6         0\n",
       "F7         0\n",
       "F8         0\n",
       "F9         0\n",
       "F10        0\n",
       "F11        0\n",
       "F12        0\n",
       "F13        0\n",
       "F14        0\n",
       "F15      750\n",
       "Class      0\n",
       "dtype: int64"
      ]
     },
     "execution_count": 222,
     "metadata": {},
     "output_type": "execute_result"
    }
   ],
   "source": [
    "# Check df for nans \n",
    "data.isnull().sum()"
   ]
  },
  {
   "cell_type": "code",
   "execution_count": 223,
   "metadata": {
    "scrolled": true
   },
   "outputs": [
    {
     "data": {
      "text/html": [
       "<div>\n",
       "<style scoped>\n",
       "    .dataframe tbody tr th:only-of-type {\n",
       "        vertical-align: middle;\n",
       "    }\n",
       "\n",
       "    .dataframe tbody tr th {\n",
       "        vertical-align: top;\n",
       "    }\n",
       "\n",
       "    .dataframe thead th {\n",
       "        text-align: right;\n",
       "    }\n",
       "</style>\n",
       "<table border=\"1\" class=\"dataframe\">\n",
       "  <thead>\n",
       "    <tr style=\"text-align: right;\">\n",
       "      <th></th>\n",
       "      <th>F1</th>\n",
       "      <th>F2</th>\n",
       "      <th>F3</th>\n",
       "      <th>F4</th>\n",
       "      <th>F5</th>\n",
       "      <th>F6</th>\n",
       "      <th>F7</th>\n",
       "      <th>F8</th>\n",
       "      <th>F9</th>\n",
       "      <th>F10</th>\n",
       "      <th>F11</th>\n",
       "      <th>F12</th>\n",
       "      <th>F13</th>\n",
       "      <th>F14</th>\n",
       "      <th>F15</th>\n",
       "      <th>Class</th>\n",
       "    </tr>\n",
       "  </thead>\n",
       "  <tbody>\n",
       "    <tr>\n",
       "      <th>1</th>\n",
       "      <td>3.98</td>\n",
       "      <td>-5.25</td>\n",
       "      <td>-47.64</td>\n",
       "      <td>-23.43</td>\n",
       "      <td>8.66</td>\n",
       "      <td>2</td>\n",
       "      <td>4.32</td>\n",
       "      <td>-83.01</td>\n",
       "      <td>-11.16</td>\n",
       "      <td>2.72</td>\n",
       "      <td>0.50</td>\n",
       "      <td>111</td>\n",
       "      <td>0.84</td>\n",
       "      <td>39.42</td>\n",
       "      <td>9.26</td>\n",
       "      <td>1</td>\n",
       "    </tr>\n",
       "    <tr>\n",
       "      <th>3</th>\n",
       "      <td>14.70</td>\n",
       "      <td>1.09</td>\n",
       "      <td>-50.64</td>\n",
       "      <td>-4.74</td>\n",
       "      <td>15.09</td>\n",
       "      <td>20</td>\n",
       "      <td>-8.16</td>\n",
       "      <td>10.99</td>\n",
       "      <td>-13.12</td>\n",
       "      <td>190.72</td>\n",
       "      <td>-5.71</td>\n",
       "      <td>660</td>\n",
       "      <td>7.25</td>\n",
       "      <td>15.78</td>\n",
       "      <td>6.57</td>\n",
       "      <td>0</td>\n",
       "    </tr>\n",
       "    <tr>\n",
       "      <th>5</th>\n",
       "      <td>0.64</td>\n",
       "      <td>-3.71</td>\n",
       "      <td>-47.64</td>\n",
       "      <td>-18.99</td>\n",
       "      <td>8.61</td>\n",
       "      <td>2</td>\n",
       "      <td>0.94</td>\n",
       "      <td>-71.01</td>\n",
       "      <td>-10.88</td>\n",
       "      <td>50.72</td>\n",
       "      <td>-0.06</td>\n",
       "      <td>132</td>\n",
       "      <td>0.56</td>\n",
       "      <td>26.22</td>\n",
       "      <td>8.43</td>\n",
       "      <td>1</td>\n",
       "    </tr>\n",
       "    <tr>\n",
       "      <th>6</th>\n",
       "      <td>11.00</td>\n",
       "      <td>-0.36</td>\n",
       "      <td>-110.64</td>\n",
       "      <td>-4.08</td>\n",
       "      <td>13.19</td>\n",
       "      <td>20</td>\n",
       "      <td>-6.32</td>\n",
       "      <td>-99.01</td>\n",
       "      <td>-9.94</td>\n",
       "      <td>-9.28</td>\n",
       "      <td>-5.31</td>\n",
       "      <td>975</td>\n",
       "      <td>9.25</td>\n",
       "      <td>10.89</td>\n",
       "      <td>8.92</td>\n",
       "      <td>1</td>\n",
       "    </tr>\n",
       "    <tr>\n",
       "      <th>11</th>\n",
       "      <td>0.72</td>\n",
       "      <td>-4.50</td>\n",
       "      <td>-41.64</td>\n",
       "      <td>-28.98</td>\n",
       "      <td>8.90</td>\n",
       "      <td>2</td>\n",
       "      <td>1.08</td>\n",
       "      <td>-77.01</td>\n",
       "      <td>-10.06</td>\n",
       "      <td>-3.28</td>\n",
       "      <td>-0.93</td>\n",
       "      <td>21</td>\n",
       "      <td>0.23</td>\n",
       "      <td>29.52</td>\n",
       "      <td>7.81</td>\n",
       "      <td>1</td>\n",
       "    </tr>\n",
       "    <tr>\n",
       "      <th>...</th>\n",
       "      <td>...</td>\n",
       "      <td>...</td>\n",
       "      <td>...</td>\n",
       "      <td>...</td>\n",
       "      <td>...</td>\n",
       "      <td>...</td>\n",
       "      <td>...</td>\n",
       "      <td>...</td>\n",
       "      <td>...</td>\n",
       "      <td>...</td>\n",
       "      <td>...</td>\n",
       "      <td>...</td>\n",
       "      <td>...</td>\n",
       "      <td>...</td>\n",
       "      <td>...</td>\n",
       "      <td>...</td>\n",
       "    </tr>\n",
       "    <tr>\n",
       "      <th>1489</th>\n",
       "      <td>21.10</td>\n",
       "      <td>-0.12</td>\n",
       "      <td>-50.64</td>\n",
       "      <td>-5.79</td>\n",
       "      <td>15.09</td>\n",
       "      <td>20</td>\n",
       "      <td>-2.96</td>\n",
       "      <td>10.99</td>\n",
       "      <td>-11.28</td>\n",
       "      <td>340.72</td>\n",
       "      <td>-4.29</td>\n",
       "      <td>135</td>\n",
       "      <td>6.80</td>\n",
       "      <td>12.72</td>\n",
       "      <td>6.88</td>\n",
       "      <td>0</td>\n",
       "    </tr>\n",
       "    <tr>\n",
       "      <th>1492</th>\n",
       "      <td>11.30</td>\n",
       "      <td>-3.36</td>\n",
       "      <td>-80.64</td>\n",
       "      <td>-3.78</td>\n",
       "      <td>15.34</td>\n",
       "      <td>20</td>\n",
       "      <td>-5.66</td>\n",
       "      <td>-89.01</td>\n",
       "      <td>-16.16</td>\n",
       "      <td>100.72</td>\n",
       "      <td>-2.65</td>\n",
       "      <td>255</td>\n",
       "      <td>6.40</td>\n",
       "      <td>11.43</td>\n",
       "      <td>8.80</td>\n",
       "      <td>1</td>\n",
       "    </tr>\n",
       "    <tr>\n",
       "      <th>1494</th>\n",
       "      <td>19.50</td>\n",
       "      <td>0.25</td>\n",
       "      <td>-110.64</td>\n",
       "      <td>-7.05</td>\n",
       "      <td>14.39</td>\n",
       "      <td>20</td>\n",
       "      <td>-6.24</td>\n",
       "      <td>-99.01</td>\n",
       "      <td>-11.98</td>\n",
       "      <td>320.72</td>\n",
       "      <td>-4.83</td>\n",
       "      <td>555</td>\n",
       "      <td>6.40</td>\n",
       "      <td>21.48</td>\n",
       "      <td>7.69</td>\n",
       "      <td>0</td>\n",
       "    </tr>\n",
       "    <tr>\n",
       "      <th>1496</th>\n",
       "      <td>0.64</td>\n",
       "      <td>-6.48</td>\n",
       "      <td>-41.64</td>\n",
       "      <td>-21.69</td>\n",
       "      <td>8.74</td>\n",
       "      <td>2</td>\n",
       "      <td>2.74</td>\n",
       "      <td>-65.01</td>\n",
       "      <td>-10.58</td>\n",
       "      <td>70.72</td>\n",
       "      <td>-0.58</td>\n",
       "      <td>18</td>\n",
       "      <td>0.57</td>\n",
       "      <td>33.00</td>\n",
       "      <td>7.70</td>\n",
       "      <td>0</td>\n",
       "    </tr>\n",
       "    <tr>\n",
       "      <th>1498</th>\n",
       "      <td>18.20</td>\n",
       "      <td>-2.87</td>\n",
       "      <td>-50.64</td>\n",
       "      <td>-5.31</td>\n",
       "      <td>13.34</td>\n",
       "      <td>20</td>\n",
       "      <td>-4.18</td>\n",
       "      <td>-19.01</td>\n",
       "      <td>-8.30</td>\n",
       "      <td>380.72</td>\n",
       "      <td>-4.64</td>\n",
       "      <td>150</td>\n",
       "      <td>10.15</td>\n",
       "      <td>16.17</td>\n",
       "      <td>6.45</td>\n",
       "      <td>0</td>\n",
       "    </tr>\n",
       "  </tbody>\n",
       "</table>\n",
       "<p>750 rows × 16 columns</p>\n",
       "</div>"
      ],
      "text/plain": [
       "         F1    F2      F3     F4     F5  F6    F7     F8     F9     F10   F11  \\\n",
       "1      3.98 -5.25  -47.64 -23.43   8.66   2  4.32 -83.01 -11.16    2.72  0.50   \n",
       "3     14.70  1.09  -50.64  -4.74  15.09  20 -8.16  10.99 -13.12  190.72 -5.71   \n",
       "5      0.64 -3.71  -47.64 -18.99   8.61   2  0.94 -71.01 -10.88   50.72 -0.06   \n",
       "6     11.00 -0.36 -110.64  -4.08  13.19  20 -6.32 -99.01  -9.94   -9.28 -5.31   \n",
       "11     0.72 -4.50  -41.64 -28.98   8.90   2  1.08 -77.01 -10.06   -3.28 -0.93   \n",
       "...     ...   ...     ...    ...    ...  ..   ...    ...    ...     ...   ...   \n",
       "1489  21.10 -0.12  -50.64  -5.79  15.09  20 -2.96  10.99 -11.28  340.72 -4.29   \n",
       "1492  11.30 -3.36  -80.64  -3.78  15.34  20 -5.66 -89.01 -16.16  100.72 -2.65   \n",
       "1494  19.50  0.25 -110.64  -7.05  14.39  20 -6.24 -99.01 -11.98  320.72 -4.83   \n",
       "1496   0.64 -6.48  -41.64 -21.69   8.74   2  2.74 -65.01 -10.58   70.72 -0.58   \n",
       "1498  18.20 -2.87  -50.64  -5.31  13.34  20 -4.18 -19.01  -8.30  380.72 -4.64   \n",
       "\n",
       "      F12    F13    F14   F15  Class  \n",
       "1     111   0.84  39.42  9.26      1  \n",
       "3     660   7.25  15.78  6.57      0  \n",
       "5     132   0.56  26.22  8.43      1  \n",
       "6     975   9.25  10.89  8.92      1  \n",
       "11     21   0.23  29.52  7.81      1  \n",
       "...   ...    ...    ...   ...    ...  \n",
       "1489  135   6.80  12.72  6.88      0  \n",
       "1492  255   6.40  11.43  8.80      1  \n",
       "1494  555   6.40  21.48  7.69      0  \n",
       "1496   18   0.57  33.00  7.70      0  \n",
       "1498  150  10.15  16.17  6.45      0  \n",
       "\n",
       "[750 rows x 16 columns]"
      ]
     },
     "execution_count": 223,
     "metadata": {},
     "output_type": "execute_result"
    }
   ],
   "source": [
    "# Drop rows of df with nans \n",
    "data = data.dropna()\n",
    "data"
   ]
  },
  {
   "cell_type": "code",
   "execution_count": 224,
   "metadata": {
    "scrolled": true
   },
   "outputs": [
    {
     "data": {
      "text/plain": [
       "F1       float64\n",
       "F2       float64\n",
       "F3       float64\n",
       "F4       float64\n",
       "F5       float64\n",
       "F6         int64\n",
       "F7       float64\n",
       "F8       float64\n",
       "F9       float64\n",
       "F10      float64\n",
       "F11      float64\n",
       "F12        int64\n",
       "F13      float64\n",
       "F14      float64\n",
       "F15      float64\n",
       "Class      int32\n",
       "dtype: object"
      ]
     },
     "execution_count": 224,
     "metadata": {},
     "output_type": "execute_result"
    }
   ],
   "source": [
    "# Check again datatypes \n",
    "data.dtypes"
   ]
  },
  {
   "cell_type": "code",
   "execution_count": 225,
   "metadata": {},
   "outputs": [
    {
     "name": "stdout",
     "output_type": "stream",
     "text": [
      "(750, 15) (750,)\n"
     ]
    }
   ],
   "source": [
    "# Set x and y \n",
    "\n",
    "import numpy as np\n",
    "\n",
    "x = data.loc[:, data.columns != 'Class'].to_numpy()\n",
    "y = data.loc[:, 'Class'].to_numpy()\n",
    "print(x.shape, y.shape)"
   ]
  },
  {
   "cell_type": "code",
   "execution_count": 226,
   "metadata": {},
   "outputs": [
    {
     "data": {
      "image/png": "[encoded data removed]",
      "text/plain": [
       "<Figure size 576x432 with 15 Axes>"
      ]
     },
     "metadata": {
      "needs_background": "light"
     },
     "output_type": "display_data"
    }
   ],
   "source": [
    "#Visualise data\n",
    "\n",
    "import matplotlib.pyplot as plt\n",
    "\n",
    "plt.figure(figsize=(8,6))\n",
    "for i in range(x.shape[1]):\n",
    "    plt.subplot(5, 3, i+1)\n",
    "    plt.scatter(y,x[:,i])\n",
    "    plt.xticks([0, 1])\n",
    "    plt.title(data.columns[i])"
   ]
  },
  {
   "cell_type": "code",
   "execution_count": 227,
   "metadata": {},
   "outputs": [
    {
     "data": {
      "text/plain": [
       "(array([0, 1]), [Text(0, 0, '0'), Text(1, 0, '1')])"
      ]
     },
     "execution_count": 227,
     "metadata": {},
     "output_type": "execute_result"
    },
    {
     "data": {
      "image/png": "[encoded data removed]",
      "text/plain": [
       "<Figure size 432x288 with 1 Axes>"
      ]
     },
     "metadata": {
      "needs_background": "light"
     },
     "output_type": "display_data"
    }
   ],
   "source": [
    "#Examine target varible \n",
    "\n",
    "import seaborn as sns\n",
    "\n",
    "sns.countplot(x= 'Class', data = data)\n",
    "plt.xticks(rotation=0)"
   ]
  },
  {
   "cell_type": "code",
   "execution_count": 228,
   "metadata": {},
   "outputs": [
    {
     "data": {
      "text/plain": [
       "array([[<AxesSubplot:title={'center':'F1'}>,\n",
       "        <AxesSubplot:title={'center':'F2'}>,\n",
       "        <AxesSubplot:title={'center':'F3'}>,\n",
       "        <AxesSubplot:title={'center':'F4'}>],\n",
       "       [<AxesSubplot:title={'center':'F5'}>,\n",
       "        <AxesSubplot:title={'center':'F6'}>,\n",
       "        <AxesSubplot:title={'center':'F7'}>,\n",
       "        <AxesSubplot:title={'center':'F8'}>],\n",
       "       [<AxesSubplot:title={'center':'F9'}>,\n",
       "        <AxesSubplot:title={'center':'F10'}>,\n",
       "        <AxesSubplot:title={'center':'F11'}>,\n",
       "        <AxesSubplot:title={'center':'F12'}>],\n",
       "       [<AxesSubplot:title={'center':'F13'}>,\n",
       "        <AxesSubplot:title={'center':'F14'}>,\n",
       "        <AxesSubplot:title={'center':'F15'}>,\n",
       "        <AxesSubplot:title={'center':'Class'}>]], dtype=object)"
      ]
     },
     "execution_count": 228,
     "metadata": {},
     "output_type": "execute_result"
    },
    {
     "data": {
      "image/png": "[encoded data removed]",
      "text/plain": [
       "<Figure size 432x288 with 16 Axes>"
      ]
     },
     "metadata": {
      "needs_background": "light"
     },
     "output_type": "display_data"
    }
   ],
   "source": [
    "data.hist()"
   ]
  },
  {
   "cell_type": "markdown",
   "metadata": {},
   "source": [
    "## Start using my chosen Machine Learning algorithms "
   ]
  },
  {
   "cell_type": "code",
   "execution_count": 229,
   "metadata": {},
   "outputs": [
    {
     "name": "stdout",
     "output_type": "stream",
     "text": [
      "0.841465149359886\n"
     ]
    }
   ],
   "source": [
    "DT = DecisionTreeClassifier(criterion = \"gini\", random_state = 50)\n",
    "score = cross_val_score(DT, x, y, cv=20) \n",
    "print(np.mean(score))"
   ]
  },
  {
   "cell_type": "code",
   "execution_count": 200,
   "metadata": {},
   "outputs": [],
   "source": [
    "# sc = StandardScaler()\n",
    "# clf = DT\n",
    "# pipe = Pipeline(steps=[('scaler', sc), ('DecisionTreeClassifier', clf)])\n",
    "# # Parameters of pipelines can be set using ‘__’ separated parameter names:\n",
    "# param_grid = {\n",
    "#     'criterion': ['gini', 'entropy'],\n",
    "#     'max_depth' : range(1,10)\n",
    "# }\n",
    "# search = GridSearchCV(pipe, param_grid, cv = 10, n_jobs=-1)\n",
    "# score = cross_val_score(search, x, y) \n",
    "# print(score)"
   ]
  },
  {
   "cell_type": "code",
   "execution_count": 201,
   "metadata": {
    "scrolled": false
   },
   "outputs": [
    {
     "data": {
      "text/plain": [
       "dict_keys(['ccp_alpha', 'class_weight', 'criterion', 'max_depth', 'max_features', 'max_leaf_nodes', 'min_impurity_decrease', 'min_impurity_split', 'min_samples_leaf', 'min_samples_split', 'min_weight_fraction_leaf', 'presort', 'random_state', 'splitter'])"
      ]
     },
     "execution_count": 201,
     "metadata": {},
     "output_type": "execute_result"
    }
   ],
   "source": [
    "DT.get_params().keys()"
   ]
  },
  {
   "cell_type": "code",
   "execution_count": 202,
   "metadata": {},
   "outputs": [
    {
     "data": {
      "text/plain": [
       "Pipeline(steps=[('scaler', StandardScaler()), ('Decision', SVC())])"
      ]
     },
     "execution_count": 202,
     "metadata": {},
     "output_type": "execute_result"
    }
   ],
   "source": [
    "#create pipe \n",
    "Pipeline(steps=[('scaler', StandardScaler()), ('Decision', svm.SVC())])"
   ]
  },
  {
   "cell_type": "code",
   "execution_count": 203,
   "metadata": {
    "scrolled": false
   },
   "outputs": [
    {
     "data": {
      "text/html": [
       "<div>\n",
       "<style scoped>\n",
       "    .dataframe tbody tr th:only-of-type {\n",
       "        vertical-align: middle;\n",
       "    }\n",
       "\n",
       "    .dataframe tbody tr th {\n",
       "        vertical-align: top;\n",
       "    }\n",
       "\n",
       "    .dataframe thead th {\n",
       "        text-align: right;\n",
       "    }\n",
       "</style>\n",
       "<table border=\"1\" class=\"dataframe\">\n",
       "  <thead>\n",
       "    <tr style=\"text-align: right;\">\n",
       "      <th></th>\n",
       "      <th>F1</th>\n",
       "      <th>F2</th>\n",
       "      <th>F3</th>\n",
       "      <th>F4</th>\n",
       "      <th>F5</th>\n",
       "      <th>F6</th>\n",
       "      <th>F7</th>\n",
       "      <th>F8</th>\n",
       "      <th>F9</th>\n",
       "      <th>F10</th>\n",
       "      <th>F11</th>\n",
       "      <th>F12</th>\n",
       "      <th>F13</th>\n",
       "      <th>F14</th>\n",
       "      <th>F15</th>\n",
       "      <th>Class</th>\n",
       "    </tr>\n",
       "  </thead>\n",
       "  <tbody>\n",
       "    <tr>\n",
       "      <th>0</th>\n",
       "      <td>3.20</td>\n",
       "      <td>-4.91</td>\n",
       "      <td>-41.64</td>\n",
       "      <td>-21.63</td>\n",
       "      <td>8.41</td>\n",
       "      <td>2</td>\n",
       "      <td>5.42</td>\n",
       "      <td>-84.01</td>\n",
       "      <td>-9.40</td>\n",
       "      <td>76.72</td>\n",
       "      <td>-0.42</td>\n",
       "      <td>36</td>\n",
       "      <td>0.33</td>\n",
       "      <td>30.60</td>\n",
       "      <td>NaN</td>\n",
       "      <td>0</td>\n",
       "    </tr>\n",
       "    <tr>\n",
       "      <th>1</th>\n",
       "      <td>3.98</td>\n",
       "      <td>-5.25</td>\n",
       "      <td>-47.64</td>\n",
       "      <td>-23.43</td>\n",
       "      <td>8.66</td>\n",
       "      <td>2</td>\n",
       "      <td>4.32</td>\n",
       "      <td>-83.01</td>\n",
       "      <td>-11.16</td>\n",
       "      <td>2.72</td>\n",
       "      <td>0.50</td>\n",
       "      <td>111</td>\n",
       "      <td>0.84</td>\n",
       "      <td>39.42</td>\n",
       "      <td>9.26</td>\n",
       "      <td>1</td>\n",
       "    </tr>\n",
       "    <tr>\n",
       "      <th>2</th>\n",
       "      <td>12.60</td>\n",
       "      <td>0.41</td>\n",
       "      <td>-50.64</td>\n",
       "      <td>-15.51</td>\n",
       "      <td>16.34</td>\n",
       "      <td>20</td>\n",
       "      <td>-4.00</td>\n",
       "      <td>25.99</td>\n",
       "      <td>-15.08</td>\n",
       "      <td>450.72</td>\n",
       "      <td>-3.60</td>\n",
       "      <td>525</td>\n",
       "      <td>5.10</td>\n",
       "      <td>21.78</td>\n",
       "      <td>NaN</td>\n",
       "      <td>0</td>\n",
       "    </tr>\n",
       "    <tr>\n",
       "      <th>3</th>\n",
       "      <td>14.70</td>\n",
       "      <td>1.09</td>\n",
       "      <td>-50.64</td>\n",
       "      <td>-4.74</td>\n",
       "      <td>15.09</td>\n",
       "      <td>20</td>\n",
       "      <td>-8.16</td>\n",
       "      <td>10.99</td>\n",
       "      <td>-13.12</td>\n",
       "      <td>190.72</td>\n",
       "      <td>-5.71</td>\n",
       "      <td>660</td>\n",
       "      <td>7.25</td>\n",
       "      <td>15.78</td>\n",
       "      <td>6.57</td>\n",
       "      <td>0</td>\n",
       "    </tr>\n",
       "    <tr>\n",
       "      <th>4</th>\n",
       "      <td>2.74</td>\n",
       "      <td>-3.86</td>\n",
       "      <td>-35.64</td>\n",
       "      <td>-23.91</td>\n",
       "      <td>8.67</td>\n",
       "      <td>2</td>\n",
       "      <td>2.80</td>\n",
       "      <td>-53.01</td>\n",
       "      <td>-19.22</td>\n",
       "      <td>24.72</td>\n",
       "      <td>0.59</td>\n",
       "      <td>33</td>\n",
       "      <td>0.85</td>\n",
       "      <td>25.08</td>\n",
       "      <td>NaN</td>\n",
       "      <td>1</td>\n",
       "    </tr>\n",
       "    <tr>\n",
       "      <th>...</th>\n",
       "      <td>...</td>\n",
       "      <td>...</td>\n",
       "      <td>...</td>\n",
       "      <td>...</td>\n",
       "      <td>...</td>\n",
       "      <td>...</td>\n",
       "      <td>...</td>\n",
       "      <td>...</td>\n",
       "      <td>...</td>\n",
       "      <td>...</td>\n",
       "      <td>...</td>\n",
       "      <td>...</td>\n",
       "      <td>...</td>\n",
       "      <td>...</td>\n",
       "      <td>...</td>\n",
       "      <td>...</td>\n",
       "    </tr>\n",
       "    <tr>\n",
       "      <th>1495</th>\n",
       "      <td>15.60</td>\n",
       "      <td>-2.92</td>\n",
       "      <td>-110.64</td>\n",
       "      <td>-5.94</td>\n",
       "      <td>15.84</td>\n",
       "      <td>20</td>\n",
       "      <td>-4.20</td>\n",
       "      <td>-104.01</td>\n",
       "      <td>-7.90</td>\n",
       "      <td>90.72</td>\n",
       "      <td>-4.99</td>\n",
       "      <td>720</td>\n",
       "      <td>6.10</td>\n",
       "      <td>12.87</td>\n",
       "      <td>NaN</td>\n",
       "      <td>1</td>\n",
       "    </tr>\n",
       "    <tr>\n",
       "      <th>1496</th>\n",
       "      <td>0.64</td>\n",
       "      <td>-6.48</td>\n",
       "      <td>-41.64</td>\n",
       "      <td>-21.69</td>\n",
       "      <td>8.74</td>\n",
       "      <td>2</td>\n",
       "      <td>2.74</td>\n",
       "      <td>-65.01</td>\n",
       "      <td>-10.58</td>\n",
       "      <td>70.72</td>\n",
       "      <td>-0.58</td>\n",
       "      <td>18</td>\n",
       "      <td>0.57</td>\n",
       "      <td>33.00</td>\n",
       "      <td>7.70</td>\n",
       "      <td>0</td>\n",
       "    </tr>\n",
       "    <tr>\n",
       "      <th>1497</th>\n",
       "      <td>12.00</td>\n",
       "      <td>-1.38</td>\n",
       "      <td>-80.64</td>\n",
       "      <td>-13.14</td>\n",
       "      <td>13.49</td>\n",
       "      <td>20</td>\n",
       "      <td>-1.48</td>\n",
       "      <td>-54.01</td>\n",
       "      <td>-9.00</td>\n",
       "      <td>240.72</td>\n",
       "      <td>-3.53</td>\n",
       "      <td>270</td>\n",
       "      <td>6.50</td>\n",
       "      <td>15.69</td>\n",
       "      <td>NaN</td>\n",
       "      <td>0</td>\n",
       "    </tr>\n",
       "    <tr>\n",
       "      <th>1498</th>\n",
       "      <td>18.20</td>\n",
       "      <td>-2.87</td>\n",
       "      <td>-50.64</td>\n",
       "      <td>-5.31</td>\n",
       "      <td>13.34</td>\n",
       "      <td>20</td>\n",
       "      <td>-4.18</td>\n",
       "      <td>-19.01</td>\n",
       "      <td>-8.30</td>\n",
       "      <td>380.72</td>\n",
       "      <td>-4.64</td>\n",
       "      <td>150</td>\n",
       "      <td>10.15</td>\n",
       "      <td>16.17</td>\n",
       "      <td>6.45</td>\n",
       "      <td>0</td>\n",
       "    </tr>\n",
       "    <tr>\n",
       "      <th>1499</th>\n",
       "      <td>15.90</td>\n",
       "      <td>-0.03</td>\n",
       "      <td>-50.64</td>\n",
       "      <td>-8.40</td>\n",
       "      <td>13.49</td>\n",
       "      <td>20</td>\n",
       "      <td>-7.34</td>\n",
       "      <td>-14.01</td>\n",
       "      <td>-10.62</td>\n",
       "      <td>230.72</td>\n",
       "      <td>-4.03</td>\n",
       "      <td>360</td>\n",
       "      <td>7.90</td>\n",
       "      <td>13.41</td>\n",
       "      <td>NaN</td>\n",
       "      <td>0</td>\n",
       "    </tr>\n",
       "  </tbody>\n",
       "</table>\n",
       "<p>1500 rows × 16 columns</p>\n",
       "</div>"
      ],
      "text/plain": [
       "         F1    F2      F3     F4     F5  F6    F7      F8     F9     F10  \\\n",
       "0      3.20 -4.91  -41.64 -21.63   8.41   2  5.42  -84.01  -9.40   76.72   \n",
       "1      3.98 -5.25  -47.64 -23.43   8.66   2  4.32  -83.01 -11.16    2.72   \n",
       "2     12.60  0.41  -50.64 -15.51  16.34  20 -4.00   25.99 -15.08  450.72   \n",
       "3     14.70  1.09  -50.64  -4.74  15.09  20 -8.16   10.99 -13.12  190.72   \n",
       "4      2.74 -3.86  -35.64 -23.91   8.67   2  2.80  -53.01 -19.22   24.72   \n",
       "...     ...   ...     ...    ...    ...  ..   ...     ...    ...     ...   \n",
       "1495  15.60 -2.92 -110.64  -5.94  15.84  20 -4.20 -104.01  -7.90   90.72   \n",
       "1496   0.64 -6.48  -41.64 -21.69   8.74   2  2.74  -65.01 -10.58   70.72   \n",
       "1497  12.00 -1.38  -80.64 -13.14  13.49  20 -1.48  -54.01  -9.00  240.72   \n",
       "1498  18.20 -2.87  -50.64  -5.31  13.34  20 -4.18  -19.01  -8.30  380.72   \n",
       "1499  15.90 -0.03  -50.64  -8.40  13.49  20 -7.34  -14.01 -10.62  230.72   \n",
       "\n",
       "       F11  F12    F13    F14   F15  Class  \n",
       "0    -0.42   36   0.33  30.60   NaN      0  \n",
       "1     0.50  111   0.84  39.42  9.26      1  \n",
       "2    -3.60  525   5.10  21.78   NaN      0  \n",
       "3    -5.71  660   7.25  15.78  6.57      0  \n",
       "4     0.59   33   0.85  25.08   NaN      1  \n",
       "...    ...  ...    ...    ...   ...    ...  \n",
       "1495 -4.99  720   6.10  12.87   NaN      1  \n",
       "1496 -0.58   18   0.57  33.00  7.70      0  \n",
       "1497 -3.53  270   6.50  15.69   NaN      0  \n",
       "1498 -4.64  150  10.15  16.17  6.45      0  \n",
       "1499 -4.03  360   7.90  13.41   NaN      0  \n",
       "\n",
       "[1500 rows x 16 columns]"
      ]
     },
     "execution_count": 203,
     "metadata": {},
     "output_type": "execute_result"
    }
   ],
   "source": [
    "#set labels for new df \n",
    "data1['Class'] = data1['Class'].astype(int)\n",
    "data1"
   ]
  },
  {
   "cell_type": "code",
   "execution_count": 204,
   "metadata": {},
   "outputs": [
    {
     "name": "stdout",
     "output_type": "stream",
     "text": [
      "(1500, 15) (1500,)\n"
     ]
    }
   ],
   "source": [
    "# set new x,y for new df with nans still present \n",
    "x1 = data1.loc[:, data1.columns != 'Class'].to_numpy()\n",
    "y1 = data1.loc[:, 'Class'].to_numpy()\n",
    "print(x1.shape, y1.shape)"
   ]
  },
  {
   "cell_type": "code",
   "execution_count": null,
   "metadata": {},
   "outputs": [],
   "source": [
    "# from sklearn.model_selection import train_test_split\n",
    "# x_train, x_test, y_train, y_test = train_test_split(x1, y1, test_size = 0.3, random_state = 50, shuffle=True)"
   ]
  },
  {
   "cell_type": "code",
   "execution_count": null,
   "metadata": {},
   "outputs": [],
   "source": [
    "# imputer = SimpleImputer() #set imputer \n",
    "# clf = svm.SVC(gamma='auto') # define model \n",
    "# pipe = make_pipeline(imputer, clf) #create pipe \n",
    "# param_grid ={\n",
    "#     'svc__C': [0.1,1,10, 15, 20, 25],\n",
    "#     'svc__kernel': ['rbf', 'linear']\n",
    "# } #set parameters for grid search \n",
    "\n",
    "# search = GridSearchCV(pipe, param_grid, cv=10, n_jobs=-1) # create grid search including pipe and parameters \n",
    "# search.fit(x1, y1); # fit "
   ]
  },
  {
   "cell_type": "code",
   "execution_count": 141,
   "metadata": {
    "scrolled": true
   },
   "outputs": [
    {
     "data": {
      "text/plain": [
       "GridSearchCV(cv=10,\n",
       "             estimator=Pipeline(steps=[('imp', SimpleImputer()),\n",
       "                                       ('scale', StandardScaler()),\n",
       "                                       ('clf', SVC(gamma='auto'))]),\n",
       "             n_jobs=-1,\n",
       "             param_grid={'clf__C': [0.1, 1, 10, 15, 20, 25, 50, 100, 150, 250],\n",
       "                         'clf__kernel': ['rbf', 'linear']})"
      ]
     },
     "execution_count": 141,
     "metadata": {},
     "output_type": "execute_result"
    }
   ],
   "source": [
    "imputer = SimpleImputer() #set imputer\n",
    "scaler = StandardScaler()\n",
    "# pca = PCA(n_components='mle')\n",
    "clf = svm.SVC(gamma='auto') # define model \n",
    "pipe = Pipeline([('imp', imputer), ('scale', scaler), ('clf', clf)]) #create pipe \n",
    "param_grid ={\n",
    "    'clf__C': [0.1,1,10, 15, 20, 25,50, 100, 150, 250],\n",
    "    'clf__kernel': ['rbf', 'linear']\n",
    "} #set parameters for grid search \n",
    "\n",
    "grid = GridSearchCV(pipe, param_grid, cv=10, n_jobs=-1) # create grid search including pipe and parameters \n",
    "grid.fit(x1, y1) # fit "
   ]
  },
  {
   "cell_type": "code",
   "execution_count": 136,
   "metadata": {
    "scrolled": true
   },
   "outputs": [],
   "source": [
    "# grid.cv_results_ "
   ]
  },
  {
   "cell_type": "code",
   "execution_count": 139,
   "metadata": {},
   "outputs": [],
   "source": [
    "# print(grid.cv_results_['mean_test_score'].mean())\n",
    "# print(grid.cv_results_['mean_train_score'].mean())"
   ]
  },
  {
   "cell_type": "code",
   "execution_count": 140,
   "metadata": {
    "scrolled": true
   },
   "outputs": [
    {
     "data": {
      "text/plain": [
       "0.8973333333333334"
      ]
     },
     "execution_count": 140,
     "metadata": {},
     "output_type": "execute_result"
    }
   ],
   "source": [
    "grid.best_score_"
   ]
  },
  {
   "cell_type": "code",
   "execution_count": 109,
   "metadata": {
    "scrolled": false
   },
   "outputs": [
    {
     "data": {
      "text/plain": [
       "{'clf__C': 150, 'clf__kernel': 'rbf'}"
      ]
     },
     "execution_count": 109,
     "metadata": {},
     "output_type": "execute_result"
    }
   ],
   "source": [
    "grid.best_params_"
   ]
  },
  {
   "cell_type": "code",
   "execution_count": 42,
   "metadata": {
    "scrolled": true
   },
   "outputs": [],
   "source": [
    "# svc_accuracy = round(metrics.accuracy_score(y_test, preds) * 100, 2)\n",
    "# print(\" SVM model accuracy:\", svc_accuracy)"
   ]
  },
  {
   "cell_type": "code",
   "execution_count": 110,
   "metadata": {},
   "outputs": [
    {
     "data": {
      "text/plain": [
       "dict_keys(['cv', 'error_score', 'estimator__memory', 'estimator__steps', 'estimator__verbose', 'estimator__imp', 'estimator__scale', 'estimator__clf', 'estimator__imp__add_indicator', 'estimator__imp__copy', 'estimator__imp__fill_value', 'estimator__imp__missing_values', 'estimator__imp__strategy', 'estimator__imp__verbose', 'estimator__scale__copy', 'estimator__scale__with_mean', 'estimator__scale__with_std', 'estimator__clf__C', 'estimator__clf__break_ties', 'estimator__clf__cache_size', 'estimator__clf__class_weight', 'estimator__clf__coef0', 'estimator__clf__decision_function_shape', 'estimator__clf__degree', 'estimator__clf__gamma', 'estimator__clf__kernel', 'estimator__clf__max_iter', 'estimator__clf__probability', 'estimator__clf__random_state', 'estimator__clf__shrinking', 'estimator__clf__tol', 'estimator__clf__verbose', 'estimator', 'iid', 'n_jobs', 'param_grid', 'pre_dispatch', 'refit', 'return_train_score', 'scoring', 'verbose'])"
      ]
     },
     "execution_count": 110,
     "metadata": {},
     "output_type": "execute_result"
    }
   ],
   "source": [
    "grid.get_params().keys()"
   ]
  },
  {
   "cell_type": "code",
   "execution_count": 299,
   "metadata": {},
   "outputs": [
    {
     "data": {
      "image/png": "[encoded data removed]",
      "text/plain": [
       "<Figure size 720x1440 with 15 Axes>"
      ]
     },
     "metadata": {
      "needs_background": "light"
     },
     "output_type": "display_data"
    }
   ],
   "source": [
    "import mglearn as mglearn \n",
    "\n",
    "feature_names = data.columns[0:-1]\n",
    "\n",
    "fig, axes = plt.subplots(5,3, figsize=(10,20))\n",
    "many1 = data.loc[data['Class'] == 0]\n",
    "many = np.array(many1)[:,0:-1]\n",
    "few1 = data.loc[data['Class'] == 1]\n",
    "few = np.array(few1)[:,0:-1]\n",
    "\n",
    "ax = axes.ravel()\n",
    "\n",
    "for i in range(15):\n",
    "    _, bins = np.histogram(data_array[:, i], bins=50)\n",
    "    ax[i].hist(many[:, i], bins=bins, color=mglearn.cm3(0), alpha=.5)\n",
    "    ax[i].hist(few[:, i], bins=bins, color=mglearn.cm3(2), alpha=.5)\n",
    "    ax[i].set_title(feature_names[i])\n",
    "    ax[i].set_yticks(())\n",
    "    ax[i].set_xlabel(\"Feature Magnitude\")\n",
    "    ax[i].set_ylabel(\"frequency\")\n",
    "    ax[i].legend([\"many\", \"few\"], loc=\"best\")\n",
    "fig.tight_layout()"
   ]
  },
  {
   "cell_type": "code",
   "execution_count": 205,
   "metadata": {},
   "outputs": [],
   "source": [
    "data_array = np.array(data)\n",
    "a = data_array[:,-1] == 0\n",
    "# data[:, 1]"
   ]
  },
  {
   "cell_type": "code",
   "execution_count": 212,
   "metadata": {
    "scrolled": true
   },
   "outputs": [
    {
     "ename": "NotImplementedError",
     "evalue": "iLocation based boolean indexing on an integer type is not available",
     "output_type": "error",
     "traceback": [
      "\u001b[1;31m---------------------------------------------------------------------------\u001b[0m",
      "\u001b[1;31mNotImplementedError\u001b[0m                       Traceback (most recent call last)",
      "\u001b[1;32m<ipython-input-212-c2fc30de57e2>\u001b[0m in \u001b[0;36m<module>\u001b[1;34m\u001b[0m\n\u001b[1;32m----> 1\u001b[1;33m \u001b[0mdatax\u001b[0m \u001b[1;33m=\u001b[0m \u001b[0mdata\u001b[0m\u001b[1;33m.\u001b[0m\u001b[0miloc\u001b[0m\u001b[1;33m[\u001b[0m\u001b[1;33m:\u001b[0m\u001b[1;33m,\u001b[0m \u001b[0mdata\u001b[0m\u001b[1;33m.\u001b[0m\u001b[0mClass\u001b[0m \u001b[1;33m==\u001b[0m \u001b[1;36m0\u001b[0m\u001b[1;33m]\u001b[0m\u001b[1;33m.\u001b[0m\u001b[0mto_numpy\u001b[0m\u001b[1;33m(\u001b[0m\u001b[1;33m)\u001b[0m\u001b[1;33m\u001b[0m\u001b[1;33m\u001b[0m\u001b[0m\n\u001b[0m\u001b[0;32m      2\u001b[0m \u001b[1;31m# datay = data1.loc[:, 'Class'].to_numpy()\u001b[0m\u001b[1;33m\u001b[0m\u001b[1;33m\u001b[0m\u001b[1;33m\u001b[0m\u001b[0m\n",
      "\u001b[1;32m~\\anaconda3\\lib\\site-packages\\pandas\\core\\indexing.py\u001b[0m in \u001b[0;36m__getitem__\u001b[1;34m(self, key)\u001b[0m\n\u001b[0;32m    871\u001b[0m                     \u001b[1;31m# AttributeError for IntervalTree get_value\u001b[0m\u001b[1;33m\u001b[0m\u001b[1;33m\u001b[0m\u001b[1;33m\u001b[0m\u001b[0m\n\u001b[0;32m    872\u001b[0m                     \u001b[1;32mpass\u001b[0m\u001b[1;33m\u001b[0m\u001b[1;33m\u001b[0m\u001b[0m\n\u001b[1;32m--> 873\u001b[1;33m             \u001b[1;32mreturn\u001b[0m \u001b[0mself\u001b[0m\u001b[1;33m.\u001b[0m\u001b[0m_getitem_tuple\u001b[0m\u001b[1;33m(\u001b[0m\u001b[0mkey\u001b[0m\u001b[1;33m)\u001b[0m\u001b[1;33m\u001b[0m\u001b[1;33m\u001b[0m\u001b[0m\n\u001b[0m\u001b[0;32m    874\u001b[0m         \u001b[1;32melse\u001b[0m\u001b[1;33m:\u001b[0m\u001b[1;33m\u001b[0m\u001b[1;33m\u001b[0m\u001b[0m\n\u001b[0;32m    875\u001b[0m             \u001b[1;31m# we by definition only have the 0th axis\u001b[0m\u001b[1;33m\u001b[0m\u001b[1;33m\u001b[0m\u001b[1;33m\u001b[0m\u001b[0m\n",
      "\u001b[1;32m~\\anaconda3\\lib\\site-packages\\pandas\\core\\indexing.py\u001b[0m in \u001b[0;36m_getitem_tuple\u001b[1;34m(self, tup)\u001b[0m\n\u001b[0;32m   1441\u001b[0m     \u001b[1;32mdef\u001b[0m \u001b[0m_getitem_tuple\u001b[0m\u001b[1;33m(\u001b[0m\u001b[0mself\u001b[0m\u001b[1;33m,\u001b[0m \u001b[0mtup\u001b[0m\u001b[1;33m:\u001b[0m \u001b[0mTuple\u001b[0m\u001b[1;33m)\u001b[0m\u001b[1;33m:\u001b[0m\u001b[1;33m\u001b[0m\u001b[1;33m\u001b[0m\u001b[0m\n\u001b[0;32m   1442\u001b[0m \u001b[1;33m\u001b[0m\u001b[0m\n\u001b[1;32m-> 1443\u001b[1;33m         \u001b[0mself\u001b[0m\u001b[1;33m.\u001b[0m\u001b[0m_has_valid_tuple\u001b[0m\u001b[1;33m(\u001b[0m\u001b[0mtup\u001b[0m\u001b[1;33m)\u001b[0m\u001b[1;33m\u001b[0m\u001b[1;33m\u001b[0m\u001b[0m\n\u001b[0m\u001b[0;32m   1444\u001b[0m         \u001b[1;32mtry\u001b[0m\u001b[1;33m:\u001b[0m\u001b[1;33m\u001b[0m\u001b[1;33m\u001b[0m\u001b[0m\n\u001b[0;32m   1445\u001b[0m             \u001b[1;32mreturn\u001b[0m \u001b[0mself\u001b[0m\u001b[1;33m.\u001b[0m\u001b[0m_getitem_lowerdim\u001b[0m\u001b[1;33m(\u001b[0m\u001b[0mtup\u001b[0m\u001b[1;33m)\u001b[0m\u001b[1;33m\u001b[0m\u001b[1;33m\u001b[0m\u001b[0m\n",
      "\u001b[1;32m~\\anaconda3\\lib\\site-packages\\pandas\\core\\indexing.py\u001b[0m in \u001b[0;36m_has_valid_tuple\u001b[1;34m(self, key)\u001b[0m\n\u001b[0;32m    700\u001b[0m                 \u001b[1;32mraise\u001b[0m \u001b[0mIndexingError\u001b[0m\u001b[1;33m(\u001b[0m\u001b[1;34m\"Too many indexers\"\u001b[0m\u001b[1;33m)\u001b[0m\u001b[1;33m\u001b[0m\u001b[1;33m\u001b[0m\u001b[0m\n\u001b[0;32m    701\u001b[0m             \u001b[1;32mtry\u001b[0m\u001b[1;33m:\u001b[0m\u001b[1;33m\u001b[0m\u001b[1;33m\u001b[0m\u001b[0m\n\u001b[1;32m--> 702\u001b[1;33m                 \u001b[0mself\u001b[0m\u001b[1;33m.\u001b[0m\u001b[0m_validate_key\u001b[0m\u001b[1;33m(\u001b[0m\u001b[0mk\u001b[0m\u001b[1;33m,\u001b[0m \u001b[0mi\u001b[0m\u001b[1;33m)\u001b[0m\u001b[1;33m\u001b[0m\u001b[1;33m\u001b[0m\u001b[0m\n\u001b[0m\u001b[0;32m    703\u001b[0m             \u001b[1;32mexcept\u001b[0m \u001b[0mValueError\u001b[0m \u001b[1;32mas\u001b[0m \u001b[0merr\u001b[0m\u001b[1;33m:\u001b[0m\u001b[1;33m\u001b[0m\u001b[1;33m\u001b[0m\u001b[0m\n\u001b[0;32m    704\u001b[0m                 raise ValueError(\n",
      "\u001b[1;32m~\\anaconda3\\lib\\site-packages\\pandas\\core\\indexing.py\u001b[0m in \u001b[0;36m_validate_key\u001b[1;34m(self, key, axis)\u001b[0m\n\u001b[0;32m   1336\u001b[0m             \u001b[1;32mif\u001b[0m \u001b[0mhasattr\u001b[0m\u001b[1;33m(\u001b[0m\u001b[0mkey\u001b[0m\u001b[1;33m,\u001b[0m \u001b[1;34m\"index\"\u001b[0m\u001b[1;33m)\u001b[0m \u001b[1;32mand\u001b[0m \u001b[0misinstance\u001b[0m\u001b[1;33m(\u001b[0m\u001b[0mkey\u001b[0m\u001b[1;33m.\u001b[0m\u001b[0mindex\u001b[0m\u001b[1;33m,\u001b[0m \u001b[0mIndex\u001b[0m\u001b[1;33m)\u001b[0m\u001b[1;33m:\u001b[0m\u001b[1;33m\u001b[0m\u001b[1;33m\u001b[0m\u001b[0m\n\u001b[0;32m   1337\u001b[0m                 \u001b[1;32mif\u001b[0m \u001b[0mkey\u001b[0m\u001b[1;33m.\u001b[0m\u001b[0mindex\u001b[0m\u001b[1;33m.\u001b[0m\u001b[0minferred_type\u001b[0m \u001b[1;33m==\u001b[0m \u001b[1;34m\"integer\"\u001b[0m\u001b[1;33m:\u001b[0m\u001b[1;33m\u001b[0m\u001b[1;33m\u001b[0m\u001b[0m\n\u001b[1;32m-> 1338\u001b[1;33m                     raise NotImplementedError(\n\u001b[0m\u001b[0;32m   1339\u001b[0m                         \u001b[1;34m\"iLocation based boolean \"\u001b[0m\u001b[1;33m\u001b[0m\u001b[1;33m\u001b[0m\u001b[0m\n\u001b[0;32m   1340\u001b[0m                         \u001b[1;34m\"indexing on an integer type \"\u001b[0m\u001b[1;33m\u001b[0m\u001b[1;33m\u001b[0m\u001b[0m\n",
      "\u001b[1;31mNotImplementedError\u001b[0m: iLocation based boolean indexing on an integer type is not available"
     ]
    }
   ],
   "source": [
    "datax = data.iloc[:, data.Class == 0].to_numpy()\n",
    "# datay = data1.loc[:, 'Class'].to_numpy()\n"
   ]
  },
  {
   "cell_type": "code",
   "execution_count": 236,
   "metadata": {},
   "outputs": [
    {
     "data": {
      "text/plain": [
       "(344, 16)"
      ]
     },
     "execution_count": 236,
     "metadata": {},
     "output_type": "execute_result"
    }
   ],
   "source": [
    "few = data.loc[data['Class'] == 1]\n",
    "few.shape"
   ]
  },
  {
   "cell_type": "code",
   "execution_count": 254,
   "metadata": {},
   "outputs": [
    {
     "data": {
      "text/plain": [
       "(406, 14)"
      ]
     },
     "execution_count": 254,
     "metadata": {},
     "output_type": "execute_result"
    }
   ],
   "source": [
    "many = np.array(many)[:,0:-1]\n",
    "many.shape"
   ]
  },
  {
   "cell_type": "code",
   "execution_count": 265,
   "metadata": {},
   "outputs": [
    {
     "data": {
      "text/plain": [
       "Index(['F1', 'F2', 'F3', 'F4', 'F5', 'F6', 'F7', 'F8', 'F9', 'F10', 'F11',\n",
       "       'F12', 'F13', 'F14', 'F15'],\n",
       "      dtype='object')"
      ]
     },
     "execution_count": 265,
     "metadata": {},
     "output_type": "execute_result"
    }
   ],
   "source": [
    "feature_names = data.columns[0:-1]\n",
    "feature_names"
   ]
  },
  {
   "cell_type": "code",
   "execution_count": 279,
   "metadata": {},
   "outputs": [
    {
     "data": {
      "text/plain": [
       "array([[   3.98,   -5.25,  -47.64, ...,    0.84,   39.42,    9.26],\n",
       "       [  14.7 ,    1.09,  -50.64, ...,    7.25,   15.78,    6.57],\n",
       "       [   0.64,   -3.71,  -47.64, ...,    0.56,   26.22,    8.43],\n",
       "       ...,\n",
       "       [  19.5 ,    0.25, -110.64, ...,    6.4 ,   21.48,    7.69],\n",
       "       [   0.64,   -6.48,  -41.64, ...,    0.57,   33.  ,    7.7 ],\n",
       "       [  18.2 ,   -2.87,  -50.64, ...,   10.15,   16.17,    6.45]])"
      ]
     },
     "execution_count": 279,
     "metadata": {},
     "output_type": "execute_result"
    }
   ],
   "source": [
    "data_array = np.array(data)[:, 0:-1]\n",
    "data_array"
   ]
  },
  {
   "cell_type": "code",
   "execution_count": 290,
   "metadata": {},
   "outputs": [
    {
     "data": {
      "text/plain": [
       "(array([1081, 9374,  248,  185,  143,   44,   41,   47,   48,   39],\n",
       "       dtype=int64),\n",
       " array([-179.01 ,  -44.109,   90.792,  225.693,  360.594,  495.495,\n",
       "         630.396,  765.297,  900.198, 1035.099, 1170.   ]))"
      ]
     },
     "execution_count": 290,
     "metadata": {},
     "output_type": "execute_result"
    }
   ],
   "source": [
    "np.histogram(data_array)"
   ]
  }
 ],
 "metadata": {
  "kernelspec": {
   "display_name": "Python 3",
   "language": "python",
   "name": "python3"
  },
  "language_info": {
   "codemirror_mode": {
    "name": "ipython",
    "version": 3
   },
   "file_extension": ".py",
   "mimetype": "text/x-python",
   "name": "python",
   "nbconvert_exporter": "python",
   "pygments_lexer": "ipython3",
   "version": "3.8.5"
  }
 },
 "nbformat": 4,
 "nbformat_minor": 4
}
